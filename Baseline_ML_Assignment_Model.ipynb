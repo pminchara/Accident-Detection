{
  "nbformat": 4,
  "nbformat_minor": 0,
  "metadata": {
    "colab": {
      "name": "SGD_ML_Assignment_Group45.ipynb",
      "provenance": [],
      "collapsed_sections": [],
      "include_colab_link": true
    },
    "kernelspec": {
      "name": "python3",
      "display_name": "Python 3"
    },
    "accelerator": "GPU"
  },
  "cells": [
    {
      "cell_type": "markdown",
      "metadata": {
        "id": "view-in-github",
        "colab_type": "text"
      },
      "source": [
        "<a href=\"https://colab.research.google.com/github/pminchara/ML_Assignment/blob/main/SGD_ML_Assignment_Group45.ipynb\" target=\"_parent\"><img src=\"https://colab.research.google.com/assets/colab-badge.svg\" alt=\"Open In Colab\"/></a>"
      ]
    },
    {
      "cell_type": "markdown",
      "metadata": {
        "id": "8P0xHbfBUS4z"
      },
      "source": [
        "# **Machine Learning Assignment**"
      ]
    },
    {
      "cell_type": "markdown",
      "metadata": {
        "id": "wZ_0mjcnL_dm"
      },
      "source": [
        "# **Importing all the necessary libraries**"
      ]
    },
    {
      "cell_type": "code",
      "metadata": {
        "id": "DIFrz3nsI4Jq"
      },
      "source": [
        "# %tensorflow_version 2.x\n",
        "\n",
        "# import tensorflow and tensorflow.keras\n",
        "import tensorflow as tf\n",
        "from tensorflow import keras\n",
        "from tensorflow.keras import backend as K\n",
        "\n",
        "# import ImageDataGenerator and the related functions required for processing images\n",
        "from tensorflow.keras.preprocessing.image import ImageDataGenerator, img_to_array, load_img\n",
        "from tensorflow.keras.layers import Input, Dense, Dropout, BatchNormalization, GlobalAveragePooling2D\n",
        "\n",
        "# import optimizers\n",
        "from tensorflow.keras.optimizers import SGD, Adam, Adagrad, Adadelta, RMSprop\n",
        "\n",
        "# import statements for building and loading the model\n",
        "from tensorflow.keras import models\n",
        "from tensorflow.keras.models import Sequential, Model, load_model\n",
        "from tensorflow.keras.models import model_from_json\n",
        "\n",
        "# import statements for callbacks\n",
        "from tensorflow.keras.callbacks import ReduceLROnPlateau, ModelCheckpoint, EarlyStopping\n",
        "\n",
        "# import statements for initlializers and regularizers\n",
        "from tensorflow.keras.initializers import glorot_uniform\n",
        "from tensorflow.keras.regularizers import l2\n",
        "\n",
        "# import statements for one-hot encoding, model plotting\n",
        "from tensorflow.keras.utils import to_categorical, plot_model\n",
        "\n",
        "# import statements for loading ResNet50 from keras\n",
        "from tensorflow.keras.applications.resnet50 import ResNet50\n",
        "from tensorflow.keras.applications.resnet50 import preprocess_input\n",
        "\n",
        "# import statements for scikit-learn\n",
        "import sklearn.metrics as metrics\n",
        "from sklearn.preprocessing import LabelBinarizer\n",
        "from sklearn.model_selection import train_test_split\n",
        "from sklearn.metrics import classification_report, accuracy_score, confusion_matrix\n",
        "\n",
        "# import scipy\n",
        "import scipy.misc\n",
        "\n",
        "# import os for file access\n",
        "import os \n",
        "\n",
        "# import glob\n",
        "import glob\n",
        "\n",
        "# import numpy, pandas\n",
        "import numpy as np\n",
        "import pandas as pd\n",
        "\n",
        "# import opencv\n",
        "import cv2\n",
        "\n",
        "# import matplotlib\n",
        "import matplotlib.pyplot as plt\n",
        "from matplotlib.pyplot import imshow\n",
        "\n",
        "# import zipfile for unzipping the data\n",
        "import zipfile\n",
        "\n",
        "# import csv to access the csv files\n",
        "import csv\n",
        "\n",
        "# import drive to access the data from GDrive\n",
        "from google.colab import drive\n",
        "\n",
        "# import seaborn\n",
        "import seaborn as sns\n",
        "\n",
        "# import time\n",
        "from time import time"
      ],
      "execution_count": null,
      "outputs": []
    },
    {
      "cell_type": "markdown",
      "metadata": {
        "id": "kXU13Yq9MHrU"
      },
      "source": [
        "# **Mount Google Drive to load the data**"
      ]
    },
    {
      "cell_type": "code",
      "metadata": {
        "id": "PyAPMOJgY0rt",
        "colab": {
          "base_uri": "https://localhost:8080/"
        },
        "outputId": "cc6ddd7f-72fa-4556-e7a5-b1bbd69e5d1e"
      },
      "source": [
        "from google.colab import drive\n",
        "drive.mount('/content/drive')"
      ],
      "execution_count": null,
      "outputs": [
        {
          "output_type": "stream",
          "text": [
            "Drive already mounted at /content/drive; to attempt to forcibly remount, call drive.mount(\"/content/drive\", force_remount=True).\n"
          ],
          "name": "stdout"
        }
      ]
    },
    {
      "cell_type": "code",
      "metadata": {
        "id": "yV3CPBkpJVLw"
      },
      "source": [
        "zip_ref = zipfile.ZipFile(\"/content/drive/MyDrive/ML/ML Group project/Dataset.zip\", 'r')\n",
        "zip_ref.extractall(\"/tmp\")\n",
        "zip_ref.close()"
      ],
      "execution_count": null,
      "outputs": []
    },
    {
      "cell_type": "markdown",
      "metadata": {
        "id": "tQn2_HQtMj8M"
      },
      "source": [
        "Specifying the directories"
      ]
    },
    {
      "cell_type": "code",
      "metadata": {
        "id": "WuywS4xNJWB7"
      },
      "source": [
        "training_dir = '/tmp/Dataset/train/'\n",
        "testing_dir = '/tmp/Dataset/test'\n",
        "validation_dir = '/tmp/Dataset/validation/'"
      ],
      "execution_count": null,
      "outputs": []
    },
    {
      "cell_type": "code",
      "metadata": {
        "id": "RqYIa1FGbpdq"
      },
      "source": [
        "train_images = sum(len(files) for _,_, files in os.walk(training_dir))\r\n",
        "test_images = sum(len(files) for _,_, files in os.walk(testing_dir))\r\n",
        "validation_images = sum(len(files) for _,_, files in os.walk(validation_dir))"
      ],
      "execution_count": null,
      "outputs": []
    },
    {
      "cell_type": "code",
      "metadata": {
        "id": "AKuB1TUKcD4S",
        "colab": {
          "base_uri": "https://localhost:8080/"
        },
        "outputId": "47fb64f2-961c-449b-b186-aaf6208dfaa5"
      },
      "source": [
        "print(\"Number of training images =\",train_images)\r\n",
        "print(\"Number of testing images =\",test_images)\r\n",
        "print(\"Number of validation images =\",validation_images)"
      ],
      "execution_count": null,
      "outputs": [
        {
          "output_type": "stream",
          "text": [
            "Number of training images = 1000\n",
            "Number of testing images = 79\n",
            "Number of validation images = 160\n"
          ],
          "name": "stdout"
        }
      ]
    },
    {
      "cell_type": "markdown",
      "metadata": {
        "id": "sOxlEdEPNLb5"
      },
      "source": [
        "# **Using ImageDataGenerator to feed the data into the network**"
      ]
    },
    {
      "cell_type": "code",
      "metadata": {
        "id": "HB-Zd2FH6Ckx",
        "colab": {
          "base_uri": "https://localhost:8080/"
        },
        "outputId": "7a07eefa-88df-4d63-8960-a2fe989ac191"
      },
      "source": [
        "train_datagen = ImageDataGenerator(rotation_range=15,\n",
        "                                   width_shift_range= 0.1,\n",
        "                                   height_shift_range= 0.1,\n",
        "                                   zoom_range= 0.2,\n",
        "                                   horizontal_flip= True,\n",
        "                                   fill_mode= \"nearest\")\n",
        "test_datagen = ImageDataGenerator()\n",
        "valid_datagen = ImageDataGenerator()\n",
        "train_data = train_datagen.flow_from_directory(training_dir, class_mode='categorical', target_size=(224,224), batch_size=16)\n",
        "test_data = test_datagen.flow_from_directory(testing_dir, class_mode='categorical', target_size=(224,224), batch_size=16,shuffle=False)\n",
        "valid_data = valid_datagen.flow_from_directory(validation_dir, class_mode='categorical', target_size=(224,224), batch_size=16,shuffle=False)"
      ],
      "execution_count": null,
      "outputs": [
        {
          "output_type": "stream",
          "text": [
            "Found 1000 images belonging to 2 classes.\n",
            "Found 79 images belonging to 2 classes.\n",
            "Found 160 images belonging to 2 classes.\n"
          ],
          "name": "stdout"
        }
      ]
    },
    {
      "cell_type": "markdown",
      "metadata": {
        "id": "OVBpRojHNVLE"
      },
      "source": [
        "# **Loading the pre-trained ResNet50 model**"
      ]
    },
    {
      "cell_type": "markdown",
      "metadata": {
        "id": "ZBoUazGASpif"
      },
      "source": [
        "Specifying the weights and input_shape. The \"include_top = False\" indicates that the pre-trained model is used on another classification challenge instead of ImageNet. In this case, we want to classify images of four different categories."
      ]
    },
    {
      "cell_type": "code",
      "metadata": {
        "id": "mF9loenv8tJ3",
        "colab": {
          "base_uri": "https://localhost:8080/"
        },
        "outputId": "e9775401-15b6-49c5-c340-2da6aed6aa95"
      },
      "source": [
        "resnet_base = ResNet50(weights='imagenet', include_top=False, input_shape=(224,224,3))"
      ],
      "execution_count": null,
      "outputs": [
        {
          "output_type": "stream",
          "text": [
            "Downloading data from https://storage.googleapis.com/tensorflow/keras-applications/resnet/resnet50_weights_tf_dim_ordering_tf_kernels_notop.h5\n",
            "94773248/94765736 [==============================] - 1s 0us/step\n"
          ],
          "name": "stdout"
        }
      ]
    },
    {
      "cell_type": "markdown",
      "metadata": {
        "id": "ffkPHdviNbN8"
      },
      "source": [
        "Displaying the pre-trained ResNet50 model's architecture"
      ]
    },
    {
      "cell_type": "code",
      "metadata": {
        "id": "M9zTrwea-xH9",
        "colab": {
          "base_uri": "https://localhost:8080/"
        },
        "outputId": "e13c9de8-8440-42cb-cba2-fe2c9fc44fa3"
      },
      "source": [
        "resnet_base.summary()"
      ],
      "execution_count": null,
      "outputs": [
        {
          "output_type": "stream",
          "text": [
            "Model: \"resnet50\"\n",
            "__________________________________________________________________________________________________\n",
            "Layer (type)                    Output Shape         Param #     Connected to                     \n",
            "==================================================================================================\n",
            "input_1 (InputLayer)            [(None, 224, 224, 3) 0                                            \n",
            "__________________________________________________________________________________________________\n",
            "conv1_pad (ZeroPadding2D)       (None, 230, 230, 3)  0           input_1[0][0]                    \n",
            "__________________________________________________________________________________________________\n",
            "conv1_conv (Conv2D)             (None, 112, 112, 64) 9472        conv1_pad[0][0]                  \n",
            "__________________________________________________________________________________________________\n",
            "conv1_bn (BatchNormalization)   (None, 112, 112, 64) 256         conv1_conv[0][0]                 \n",
            "__________________________________________________________________________________________________\n",
            "conv1_relu (Activation)         (None, 112, 112, 64) 0           conv1_bn[0][0]                   \n",
            "__________________________________________________________________________________________________\n",
            "pool1_pad (ZeroPadding2D)       (None, 114, 114, 64) 0           conv1_relu[0][0]                 \n",
            "__________________________________________________________________________________________________\n",
            "pool1_pool (MaxPooling2D)       (None, 56, 56, 64)   0           pool1_pad[0][0]                  \n",
            "__________________________________________________________________________________________________\n",
            "conv2_block1_1_conv (Conv2D)    (None, 56, 56, 64)   4160        pool1_pool[0][0]                 \n",
            "__________________________________________________________________________________________________\n",
            "conv2_block1_1_bn (BatchNormali (None, 56, 56, 64)   256         conv2_block1_1_conv[0][0]        \n",
            "__________________________________________________________________________________________________\n",
            "conv2_block1_1_relu (Activation (None, 56, 56, 64)   0           conv2_block1_1_bn[0][0]          \n",
            "__________________________________________________________________________________________________\n",
            "conv2_block1_2_conv (Conv2D)    (None, 56, 56, 64)   36928       conv2_block1_1_relu[0][0]        \n",
            "__________________________________________________________________________________________________\n",
            "conv2_block1_2_bn (BatchNormali (None, 56, 56, 64)   256         conv2_block1_2_conv[0][0]        \n",
            "__________________________________________________________________________________________________\n",
            "conv2_block1_2_relu (Activation (None, 56, 56, 64)   0           conv2_block1_2_bn[0][0]          \n",
            "__________________________________________________________________________________________________\n",
            "conv2_block1_0_conv (Conv2D)    (None, 56, 56, 256)  16640       pool1_pool[0][0]                 \n",
            "__________________________________________________________________________________________________\n",
            "conv2_block1_3_conv (Conv2D)    (None, 56, 56, 256)  16640       conv2_block1_2_relu[0][0]        \n",
            "__________________________________________________________________________________________________\n",
            "conv2_block1_0_bn (BatchNormali (None, 56, 56, 256)  1024        conv2_block1_0_conv[0][0]        \n",
            "__________________________________________________________________________________________________\n",
            "conv2_block1_3_bn (BatchNormali (None, 56, 56, 256)  1024        conv2_block1_3_conv[0][0]        \n",
            "__________________________________________________________________________________________________\n",
            "conv2_block1_add (Add)          (None, 56, 56, 256)  0           conv2_block1_0_bn[0][0]          \n",
            "                                                                 conv2_block1_3_bn[0][0]          \n",
            "__________________________________________________________________________________________________\n",
            "conv2_block1_out (Activation)   (None, 56, 56, 256)  0           conv2_block1_add[0][0]           \n",
            "__________________________________________________________________________________________________\n",
            "conv2_block2_1_conv (Conv2D)    (None, 56, 56, 64)   16448       conv2_block1_out[0][0]           \n",
            "__________________________________________________________________________________________________\n",
            "conv2_block2_1_bn (BatchNormali (None, 56, 56, 64)   256         conv2_block2_1_conv[0][0]        \n",
            "__________________________________________________________________________________________________\n",
            "conv2_block2_1_relu (Activation (None, 56, 56, 64)   0           conv2_block2_1_bn[0][0]          \n",
            "__________________________________________________________________________________________________\n",
            "conv2_block2_2_conv (Conv2D)    (None, 56, 56, 64)   36928       conv2_block2_1_relu[0][0]        \n",
            "__________________________________________________________________________________________________\n",
            "conv2_block2_2_bn (BatchNormali (None, 56, 56, 64)   256         conv2_block2_2_conv[0][0]        \n",
            "__________________________________________________________________________________________________\n",
            "conv2_block2_2_relu (Activation (None, 56, 56, 64)   0           conv2_block2_2_bn[0][0]          \n",
            "__________________________________________________________________________________________________\n",
            "conv2_block2_3_conv (Conv2D)    (None, 56, 56, 256)  16640       conv2_block2_2_relu[0][0]        \n",
            "__________________________________________________________________________________________________\n",
            "conv2_block2_3_bn (BatchNormali (None, 56, 56, 256)  1024        conv2_block2_3_conv[0][0]        \n",
            "__________________________________________________________________________________________________\n",
            "conv2_block2_add (Add)          (None, 56, 56, 256)  0           conv2_block1_out[0][0]           \n",
            "                                                                 conv2_block2_3_bn[0][0]          \n",
            "__________________________________________________________________________________________________\n",
            "conv2_block2_out (Activation)   (None, 56, 56, 256)  0           conv2_block2_add[0][0]           \n",
            "__________________________________________________________________________________________________\n",
            "conv2_block3_1_conv (Conv2D)    (None, 56, 56, 64)   16448       conv2_block2_out[0][0]           \n",
            "__________________________________________________________________________________________________\n",
            "conv2_block3_1_bn (BatchNormali (None, 56, 56, 64)   256         conv2_block3_1_conv[0][0]        \n",
            "__________________________________________________________________________________________________\n",
            "conv2_block3_1_relu (Activation (None, 56, 56, 64)   0           conv2_block3_1_bn[0][0]          \n",
            "__________________________________________________________________________________________________\n",
            "conv2_block3_2_conv (Conv2D)    (None, 56, 56, 64)   36928       conv2_block3_1_relu[0][0]        \n",
            "__________________________________________________________________________________________________\n",
            "conv2_block3_2_bn (BatchNormali (None, 56, 56, 64)   256         conv2_block3_2_conv[0][0]        \n",
            "__________________________________________________________________________________________________\n",
            "conv2_block3_2_relu (Activation (None, 56, 56, 64)   0           conv2_block3_2_bn[0][0]          \n",
            "__________________________________________________________________________________________________\n",
            "conv2_block3_3_conv (Conv2D)    (None, 56, 56, 256)  16640       conv2_block3_2_relu[0][0]        \n",
            "__________________________________________________________________________________________________\n",
            "conv2_block3_3_bn (BatchNormali (None, 56, 56, 256)  1024        conv2_block3_3_conv[0][0]        \n",
            "__________________________________________________________________________________________________\n",
            "conv2_block3_add (Add)          (None, 56, 56, 256)  0           conv2_block2_out[0][0]           \n",
            "                                                                 conv2_block3_3_bn[0][0]          \n",
            "__________________________________________________________________________________________________\n",
            "conv2_block3_out (Activation)   (None, 56, 56, 256)  0           conv2_block3_add[0][0]           \n",
            "__________________________________________________________________________________________________\n",
            "conv3_block1_1_conv (Conv2D)    (None, 28, 28, 128)  32896       conv2_block3_out[0][0]           \n",
            "__________________________________________________________________________________________________\n",
            "conv3_block1_1_bn (BatchNormali (None, 28, 28, 128)  512         conv3_block1_1_conv[0][0]        \n",
            "__________________________________________________________________________________________________\n",
            "conv3_block1_1_relu (Activation (None, 28, 28, 128)  0           conv3_block1_1_bn[0][0]          \n",
            "__________________________________________________________________________________________________\n",
            "conv3_block1_2_conv (Conv2D)    (None, 28, 28, 128)  147584      conv3_block1_1_relu[0][0]        \n",
            "__________________________________________________________________________________________________\n",
            "conv3_block1_2_bn (BatchNormali (None, 28, 28, 128)  512         conv3_block1_2_conv[0][0]        \n",
            "__________________________________________________________________________________________________\n",
            "conv3_block1_2_relu (Activation (None, 28, 28, 128)  0           conv3_block1_2_bn[0][0]          \n",
            "__________________________________________________________________________________________________\n",
            "conv3_block1_0_conv (Conv2D)    (None, 28, 28, 512)  131584      conv2_block3_out[0][0]           \n",
            "__________________________________________________________________________________________________\n",
            "conv3_block1_3_conv (Conv2D)    (None, 28, 28, 512)  66048       conv3_block1_2_relu[0][0]        \n",
            "__________________________________________________________________________________________________\n",
            "conv3_block1_0_bn (BatchNormali (None, 28, 28, 512)  2048        conv3_block1_0_conv[0][0]        \n",
            "__________________________________________________________________________________________________\n",
            "conv3_block1_3_bn (BatchNormali (None, 28, 28, 512)  2048        conv3_block1_3_conv[0][0]        \n",
            "__________________________________________________________________________________________________\n",
            "conv3_block1_add (Add)          (None, 28, 28, 512)  0           conv3_block1_0_bn[0][0]          \n",
            "                                                                 conv3_block1_3_bn[0][0]          \n",
            "__________________________________________________________________________________________________\n",
            "conv3_block1_out (Activation)   (None, 28, 28, 512)  0           conv3_block1_add[0][0]           \n",
            "__________________________________________________________________________________________________\n",
            "conv3_block2_1_conv (Conv2D)    (None, 28, 28, 128)  65664       conv3_block1_out[0][0]           \n",
            "__________________________________________________________________________________________________\n",
            "conv3_block2_1_bn (BatchNormali (None, 28, 28, 128)  512         conv3_block2_1_conv[0][0]        \n",
            "__________________________________________________________________________________________________\n",
            "conv3_block2_1_relu (Activation (None, 28, 28, 128)  0           conv3_block2_1_bn[0][0]          \n",
            "__________________________________________________________________________________________________\n",
            "conv3_block2_2_conv (Conv2D)    (None, 28, 28, 128)  147584      conv3_block2_1_relu[0][0]        \n",
            "__________________________________________________________________________________________________\n",
            "conv3_block2_2_bn (BatchNormali (None, 28, 28, 128)  512         conv3_block2_2_conv[0][0]        \n",
            "__________________________________________________________________________________________________\n",
            "conv3_block2_2_relu (Activation (None, 28, 28, 128)  0           conv3_block2_2_bn[0][0]          \n",
            "__________________________________________________________________________________________________\n",
            "conv3_block2_3_conv (Conv2D)    (None, 28, 28, 512)  66048       conv3_block2_2_relu[0][0]        \n",
            "__________________________________________________________________________________________________\n",
            "conv3_block2_3_bn (BatchNormali (None, 28, 28, 512)  2048        conv3_block2_3_conv[0][0]        \n",
            "__________________________________________________________________________________________________\n",
            "conv3_block2_add (Add)          (None, 28, 28, 512)  0           conv3_block1_out[0][0]           \n",
            "                                                                 conv3_block2_3_bn[0][0]          \n",
            "__________________________________________________________________________________________________\n",
            "conv3_block2_out (Activation)   (None, 28, 28, 512)  0           conv3_block2_add[0][0]           \n",
            "__________________________________________________________________________________________________\n",
            "conv3_block3_1_conv (Conv2D)    (None, 28, 28, 128)  65664       conv3_block2_out[0][0]           \n",
            "__________________________________________________________________________________________________\n",
            "conv3_block3_1_bn (BatchNormali (None, 28, 28, 128)  512         conv3_block3_1_conv[0][0]        \n",
            "__________________________________________________________________________________________________\n",
            "conv3_block3_1_relu (Activation (None, 28, 28, 128)  0           conv3_block3_1_bn[0][0]          \n",
            "__________________________________________________________________________________________________\n",
            "conv3_block3_2_conv (Conv2D)    (None, 28, 28, 128)  147584      conv3_block3_1_relu[0][0]        \n",
            "__________________________________________________________________________________________________\n",
            "conv3_block3_2_bn (BatchNormali (None, 28, 28, 128)  512         conv3_block3_2_conv[0][0]        \n",
            "__________________________________________________________________________________________________\n",
            "conv3_block3_2_relu (Activation (None, 28, 28, 128)  0           conv3_block3_2_bn[0][0]          \n",
            "__________________________________________________________________________________________________\n",
            "conv3_block3_3_conv (Conv2D)    (None, 28, 28, 512)  66048       conv3_block3_2_relu[0][0]        \n",
            "__________________________________________________________________________________________________\n",
            "conv3_block3_3_bn (BatchNormali (None, 28, 28, 512)  2048        conv3_block3_3_conv[0][0]        \n",
            "__________________________________________________________________________________________________\n",
            "conv3_block3_add (Add)          (None, 28, 28, 512)  0           conv3_block2_out[0][0]           \n",
            "                                                                 conv3_block3_3_bn[0][0]          \n",
            "__________________________________________________________________________________________________\n",
            "conv3_block3_out (Activation)   (None, 28, 28, 512)  0           conv3_block3_add[0][0]           \n",
            "__________________________________________________________________________________________________\n",
            "conv3_block4_1_conv (Conv2D)    (None, 28, 28, 128)  65664       conv3_block3_out[0][0]           \n",
            "__________________________________________________________________________________________________\n",
            "conv3_block4_1_bn (BatchNormali (None, 28, 28, 128)  512         conv3_block4_1_conv[0][0]        \n",
            "__________________________________________________________________________________________________\n",
            "conv3_block4_1_relu (Activation (None, 28, 28, 128)  0           conv3_block4_1_bn[0][0]          \n",
            "__________________________________________________________________________________________________\n",
            "conv3_block4_2_conv (Conv2D)    (None, 28, 28, 128)  147584      conv3_block4_1_relu[0][0]        \n",
            "__________________________________________________________________________________________________\n",
            "conv3_block4_2_bn (BatchNormali (None, 28, 28, 128)  512         conv3_block4_2_conv[0][0]        \n",
            "__________________________________________________________________________________________________\n",
            "conv3_block4_2_relu (Activation (None, 28, 28, 128)  0           conv3_block4_2_bn[0][0]          \n",
            "__________________________________________________________________________________________________\n",
            "conv3_block4_3_conv (Conv2D)    (None, 28, 28, 512)  66048       conv3_block4_2_relu[0][0]        \n",
            "__________________________________________________________________________________________________\n",
            "conv3_block4_3_bn (BatchNormali (None, 28, 28, 512)  2048        conv3_block4_3_conv[0][0]        \n",
            "__________________________________________________________________________________________________\n",
            "conv3_block4_add (Add)          (None, 28, 28, 512)  0           conv3_block3_out[0][0]           \n",
            "                                                                 conv3_block4_3_bn[0][0]          \n",
            "__________________________________________________________________________________________________\n",
            "conv3_block4_out (Activation)   (None, 28, 28, 512)  0           conv3_block4_add[0][0]           \n",
            "__________________________________________________________________________________________________\n",
            "conv4_block1_1_conv (Conv2D)    (None, 14, 14, 256)  131328      conv3_block4_out[0][0]           \n",
            "__________________________________________________________________________________________________\n",
            "conv4_block1_1_bn (BatchNormali (None, 14, 14, 256)  1024        conv4_block1_1_conv[0][0]        \n",
            "__________________________________________________________________________________________________\n",
            "conv4_block1_1_relu (Activation (None, 14, 14, 256)  0           conv4_block1_1_bn[0][0]          \n",
            "__________________________________________________________________________________________________\n",
            "conv4_block1_2_conv (Conv2D)    (None, 14, 14, 256)  590080      conv4_block1_1_relu[0][0]        \n",
            "__________________________________________________________________________________________________\n",
            "conv4_block1_2_bn (BatchNormali (None, 14, 14, 256)  1024        conv4_block1_2_conv[0][0]        \n",
            "__________________________________________________________________________________________________\n",
            "conv4_block1_2_relu (Activation (None, 14, 14, 256)  0           conv4_block1_2_bn[0][0]          \n",
            "__________________________________________________________________________________________________\n",
            "conv4_block1_0_conv (Conv2D)    (None, 14, 14, 1024) 525312      conv3_block4_out[0][0]           \n",
            "__________________________________________________________________________________________________\n",
            "conv4_block1_3_conv (Conv2D)    (None, 14, 14, 1024) 263168      conv4_block1_2_relu[0][0]        \n",
            "__________________________________________________________________________________________________\n",
            "conv4_block1_0_bn (BatchNormali (None, 14, 14, 1024) 4096        conv4_block1_0_conv[0][0]        \n",
            "__________________________________________________________________________________________________\n",
            "conv4_block1_3_bn (BatchNormali (None, 14, 14, 1024) 4096        conv4_block1_3_conv[0][0]        \n",
            "__________________________________________________________________________________________________\n",
            "conv4_block1_add (Add)          (None, 14, 14, 1024) 0           conv4_block1_0_bn[0][0]          \n",
            "                                                                 conv4_block1_3_bn[0][0]          \n",
            "__________________________________________________________________________________________________\n",
            "conv4_block1_out (Activation)   (None, 14, 14, 1024) 0           conv4_block1_add[0][0]           \n",
            "__________________________________________________________________________________________________\n",
            "conv4_block2_1_conv (Conv2D)    (None, 14, 14, 256)  262400      conv4_block1_out[0][0]           \n",
            "__________________________________________________________________________________________________\n",
            "conv4_block2_1_bn (BatchNormali (None, 14, 14, 256)  1024        conv4_block2_1_conv[0][0]        \n",
            "__________________________________________________________________________________________________\n",
            "conv4_block2_1_relu (Activation (None, 14, 14, 256)  0           conv4_block2_1_bn[0][0]          \n",
            "__________________________________________________________________________________________________\n",
            "conv4_block2_2_conv (Conv2D)    (None, 14, 14, 256)  590080      conv4_block2_1_relu[0][0]        \n",
            "__________________________________________________________________________________________________\n",
            "conv4_block2_2_bn (BatchNormali (None, 14, 14, 256)  1024        conv4_block2_2_conv[0][0]        \n",
            "__________________________________________________________________________________________________\n",
            "conv4_block2_2_relu (Activation (None, 14, 14, 256)  0           conv4_block2_2_bn[0][0]          \n",
            "__________________________________________________________________________________________________\n",
            "conv4_block2_3_conv (Conv2D)    (None, 14, 14, 1024) 263168      conv4_block2_2_relu[0][0]        \n",
            "__________________________________________________________________________________________________\n",
            "conv4_block2_3_bn (BatchNormali (None, 14, 14, 1024) 4096        conv4_block2_3_conv[0][0]        \n",
            "__________________________________________________________________________________________________\n",
            "conv4_block2_add (Add)          (None, 14, 14, 1024) 0           conv4_block1_out[0][0]           \n",
            "                                                                 conv4_block2_3_bn[0][0]          \n",
            "__________________________________________________________________________________________________\n",
            "conv4_block2_out (Activation)   (None, 14, 14, 1024) 0           conv4_block2_add[0][0]           \n",
            "__________________________________________________________________________________________________\n",
            "conv4_block3_1_conv (Conv2D)    (None, 14, 14, 256)  262400      conv4_block2_out[0][0]           \n",
            "__________________________________________________________________________________________________\n",
            "conv4_block3_1_bn (BatchNormali (None, 14, 14, 256)  1024        conv4_block3_1_conv[0][0]        \n",
            "__________________________________________________________________________________________________\n",
            "conv4_block3_1_relu (Activation (None, 14, 14, 256)  0           conv4_block3_1_bn[0][0]          \n",
            "__________________________________________________________________________________________________\n",
            "conv4_block3_2_conv (Conv2D)    (None, 14, 14, 256)  590080      conv4_block3_1_relu[0][0]        \n",
            "__________________________________________________________________________________________________\n",
            "conv4_block3_2_bn (BatchNormali (None, 14, 14, 256)  1024        conv4_block3_2_conv[0][0]        \n",
            "__________________________________________________________________________________________________\n",
            "conv4_block3_2_relu (Activation (None, 14, 14, 256)  0           conv4_block3_2_bn[0][0]          \n",
            "__________________________________________________________________________________________________\n",
            "conv4_block3_3_conv (Conv2D)    (None, 14, 14, 1024) 263168      conv4_block3_2_relu[0][0]        \n",
            "__________________________________________________________________________________________________\n",
            "conv4_block3_3_bn (BatchNormali (None, 14, 14, 1024) 4096        conv4_block3_3_conv[0][0]        \n",
            "__________________________________________________________________________________________________\n",
            "conv4_block3_add (Add)          (None, 14, 14, 1024) 0           conv4_block2_out[0][0]           \n",
            "                                                                 conv4_block3_3_bn[0][0]          \n",
            "__________________________________________________________________________________________________\n",
            "conv4_block3_out (Activation)   (None, 14, 14, 1024) 0           conv4_block3_add[0][0]           \n",
            "__________________________________________________________________________________________________\n",
            "conv4_block4_1_conv (Conv2D)    (None, 14, 14, 256)  262400      conv4_block3_out[0][0]           \n",
            "__________________________________________________________________________________________________\n",
            "conv4_block4_1_bn (BatchNormali (None, 14, 14, 256)  1024        conv4_block4_1_conv[0][0]        \n",
            "__________________________________________________________________________________________________\n",
            "conv4_block4_1_relu (Activation (None, 14, 14, 256)  0           conv4_block4_1_bn[0][0]          \n",
            "__________________________________________________________________________________________________\n",
            "conv4_block4_2_conv (Conv2D)    (None, 14, 14, 256)  590080      conv4_block4_1_relu[0][0]        \n",
            "__________________________________________________________________________________________________\n",
            "conv4_block4_2_bn (BatchNormali (None, 14, 14, 256)  1024        conv4_block4_2_conv[0][0]        \n",
            "__________________________________________________________________________________________________\n",
            "conv4_block4_2_relu (Activation (None, 14, 14, 256)  0           conv4_block4_2_bn[0][0]          \n",
            "__________________________________________________________________________________________________\n",
            "conv4_block4_3_conv (Conv2D)    (None, 14, 14, 1024) 263168      conv4_block4_2_relu[0][0]        \n",
            "__________________________________________________________________________________________________\n",
            "conv4_block4_3_bn (BatchNormali (None, 14, 14, 1024) 4096        conv4_block4_3_conv[0][0]        \n",
            "__________________________________________________________________________________________________\n",
            "conv4_block4_add (Add)          (None, 14, 14, 1024) 0           conv4_block3_out[0][0]           \n",
            "                                                                 conv4_block4_3_bn[0][0]          \n",
            "__________________________________________________________________________________________________\n",
            "conv4_block4_out (Activation)   (None, 14, 14, 1024) 0           conv4_block4_add[0][0]           \n",
            "__________________________________________________________________________________________________\n",
            "conv4_block5_1_conv (Conv2D)    (None, 14, 14, 256)  262400      conv4_block4_out[0][0]           \n",
            "__________________________________________________________________________________________________\n",
            "conv4_block5_1_bn (BatchNormali (None, 14, 14, 256)  1024        conv4_block5_1_conv[0][0]        \n",
            "__________________________________________________________________________________________________\n",
            "conv4_block5_1_relu (Activation (None, 14, 14, 256)  0           conv4_block5_1_bn[0][0]          \n",
            "__________________________________________________________________________________________________\n",
            "conv4_block5_2_conv (Conv2D)    (None, 14, 14, 256)  590080      conv4_block5_1_relu[0][0]        \n",
            "__________________________________________________________________________________________________\n",
            "conv4_block5_2_bn (BatchNormali (None, 14, 14, 256)  1024        conv4_block5_2_conv[0][0]        \n",
            "__________________________________________________________________________________________________\n",
            "conv4_block5_2_relu (Activation (None, 14, 14, 256)  0           conv4_block5_2_bn[0][0]          \n",
            "__________________________________________________________________________________________________\n",
            "conv4_block5_3_conv (Conv2D)    (None, 14, 14, 1024) 263168      conv4_block5_2_relu[0][0]        \n",
            "__________________________________________________________________________________________________\n",
            "conv4_block5_3_bn (BatchNormali (None, 14, 14, 1024) 4096        conv4_block5_3_conv[0][0]        \n",
            "__________________________________________________________________________________________________\n",
            "conv4_block5_add (Add)          (None, 14, 14, 1024) 0           conv4_block4_out[0][0]           \n",
            "                                                                 conv4_block5_3_bn[0][0]          \n",
            "__________________________________________________________________________________________________\n",
            "conv4_block5_out (Activation)   (None, 14, 14, 1024) 0           conv4_block5_add[0][0]           \n",
            "__________________________________________________________________________________________________\n",
            "conv4_block6_1_conv (Conv2D)    (None, 14, 14, 256)  262400      conv4_block5_out[0][0]           \n",
            "__________________________________________________________________________________________________\n",
            "conv4_block6_1_bn (BatchNormali (None, 14, 14, 256)  1024        conv4_block6_1_conv[0][0]        \n",
            "__________________________________________________________________________________________________\n",
            "conv4_block6_1_relu (Activation (None, 14, 14, 256)  0           conv4_block6_1_bn[0][0]          \n",
            "__________________________________________________________________________________________________\n",
            "conv4_block6_2_conv (Conv2D)    (None, 14, 14, 256)  590080      conv4_block6_1_relu[0][0]        \n",
            "__________________________________________________________________________________________________\n",
            "conv4_block6_2_bn (BatchNormali (None, 14, 14, 256)  1024        conv4_block6_2_conv[0][0]        \n",
            "__________________________________________________________________________________________________\n",
            "conv4_block6_2_relu (Activation (None, 14, 14, 256)  0           conv4_block6_2_bn[0][0]          \n",
            "__________________________________________________________________________________________________\n",
            "conv4_block6_3_conv (Conv2D)    (None, 14, 14, 1024) 263168      conv4_block6_2_relu[0][0]        \n",
            "__________________________________________________________________________________________________\n",
            "conv4_block6_3_bn (BatchNormali (None, 14, 14, 1024) 4096        conv4_block6_3_conv[0][0]        \n",
            "__________________________________________________________________________________________________\n",
            "conv4_block6_add (Add)          (None, 14, 14, 1024) 0           conv4_block5_out[0][0]           \n",
            "                                                                 conv4_block6_3_bn[0][0]          \n",
            "__________________________________________________________________________________________________\n",
            "conv4_block6_out (Activation)   (None, 14, 14, 1024) 0           conv4_block6_add[0][0]           \n",
            "__________________________________________________________________________________________________\n",
            "conv5_block1_1_conv (Conv2D)    (None, 7, 7, 512)    524800      conv4_block6_out[0][0]           \n",
            "__________________________________________________________________________________________________\n",
            "conv5_block1_1_bn (BatchNormali (None, 7, 7, 512)    2048        conv5_block1_1_conv[0][0]        \n",
            "__________________________________________________________________________________________________\n",
            "conv5_block1_1_relu (Activation (None, 7, 7, 512)    0           conv5_block1_1_bn[0][0]          \n",
            "__________________________________________________________________________________________________\n",
            "conv5_block1_2_conv (Conv2D)    (None, 7, 7, 512)    2359808     conv5_block1_1_relu[0][0]        \n",
            "__________________________________________________________________________________________________\n",
            "conv5_block1_2_bn (BatchNormali (None, 7, 7, 512)    2048        conv5_block1_2_conv[0][0]        \n",
            "__________________________________________________________________________________________________\n",
            "conv5_block1_2_relu (Activation (None, 7, 7, 512)    0           conv5_block1_2_bn[0][0]          \n",
            "__________________________________________________________________________________________________\n",
            "conv5_block1_0_conv (Conv2D)    (None, 7, 7, 2048)   2099200     conv4_block6_out[0][0]           \n",
            "__________________________________________________________________________________________________\n",
            "conv5_block1_3_conv (Conv2D)    (None, 7, 7, 2048)   1050624     conv5_block1_2_relu[0][0]        \n",
            "__________________________________________________________________________________________________\n",
            "conv5_block1_0_bn (BatchNormali (None, 7, 7, 2048)   8192        conv5_block1_0_conv[0][0]        \n",
            "__________________________________________________________________________________________________\n",
            "conv5_block1_3_bn (BatchNormali (None, 7, 7, 2048)   8192        conv5_block1_3_conv[0][0]        \n",
            "__________________________________________________________________________________________________\n",
            "conv5_block1_add (Add)          (None, 7, 7, 2048)   0           conv5_block1_0_bn[0][0]          \n",
            "                                                                 conv5_block1_3_bn[0][0]          \n",
            "__________________________________________________________________________________________________\n",
            "conv5_block1_out (Activation)   (None, 7, 7, 2048)   0           conv5_block1_add[0][0]           \n",
            "__________________________________________________________________________________________________\n",
            "conv5_block2_1_conv (Conv2D)    (None, 7, 7, 512)    1049088     conv5_block1_out[0][0]           \n",
            "__________________________________________________________________________________________________\n",
            "conv5_block2_1_bn (BatchNormali (None, 7, 7, 512)    2048        conv5_block2_1_conv[0][0]        \n",
            "__________________________________________________________________________________________________\n",
            "conv5_block2_1_relu (Activation (None, 7, 7, 512)    0           conv5_block2_1_bn[0][0]          \n",
            "__________________________________________________________________________________________________\n",
            "conv5_block2_2_conv (Conv2D)    (None, 7, 7, 512)    2359808     conv5_block2_1_relu[0][0]        \n",
            "__________________________________________________________________________________________________\n",
            "conv5_block2_2_bn (BatchNormali (None, 7, 7, 512)    2048        conv5_block2_2_conv[0][0]        \n",
            "__________________________________________________________________________________________________\n",
            "conv5_block2_2_relu (Activation (None, 7, 7, 512)    0           conv5_block2_2_bn[0][0]          \n",
            "__________________________________________________________________________________________________\n",
            "conv5_block2_3_conv (Conv2D)    (None, 7, 7, 2048)   1050624     conv5_block2_2_relu[0][0]        \n",
            "__________________________________________________________________________________________________\n",
            "conv5_block2_3_bn (BatchNormali (None, 7, 7, 2048)   8192        conv5_block2_3_conv[0][0]        \n",
            "__________________________________________________________________________________________________\n",
            "conv5_block2_add (Add)          (None, 7, 7, 2048)   0           conv5_block1_out[0][0]           \n",
            "                                                                 conv5_block2_3_bn[0][0]          \n",
            "__________________________________________________________________________________________________\n",
            "conv5_block2_out (Activation)   (None, 7, 7, 2048)   0           conv5_block2_add[0][0]           \n",
            "__________________________________________________________________________________________________\n",
            "conv5_block3_1_conv (Conv2D)    (None, 7, 7, 512)    1049088     conv5_block2_out[0][0]           \n",
            "__________________________________________________________________________________________________\n",
            "conv5_block3_1_bn (BatchNormali (None, 7, 7, 512)    2048        conv5_block3_1_conv[0][0]        \n",
            "__________________________________________________________________________________________________\n",
            "conv5_block3_1_relu (Activation (None, 7, 7, 512)    0           conv5_block3_1_bn[0][0]          \n",
            "__________________________________________________________________________________________________\n",
            "conv5_block3_2_conv (Conv2D)    (None, 7, 7, 512)    2359808     conv5_block3_1_relu[0][0]        \n",
            "__________________________________________________________________________________________________\n",
            "conv5_block3_2_bn (BatchNormali (None, 7, 7, 512)    2048        conv5_block3_2_conv[0][0]        \n",
            "__________________________________________________________________________________________________\n",
            "conv5_block3_2_relu (Activation (None, 7, 7, 512)    0           conv5_block3_2_bn[0][0]          \n",
            "__________________________________________________________________________________________________\n",
            "conv5_block3_3_conv (Conv2D)    (None, 7, 7, 2048)   1050624     conv5_block3_2_relu[0][0]        \n",
            "__________________________________________________________________________________________________\n",
            "conv5_block3_3_bn (BatchNormali (None, 7, 7, 2048)   8192        conv5_block3_3_conv[0][0]        \n",
            "__________________________________________________________________________________________________\n",
            "conv5_block3_add (Add)          (None, 7, 7, 2048)   0           conv5_block2_out[0][0]           \n",
            "                                                                 conv5_block3_3_bn[0][0]          \n",
            "__________________________________________________________________________________________________\n",
            "conv5_block3_out (Activation)   (None, 7, 7, 2048)   0           conv5_block3_add[0][0]           \n",
            "==================================================================================================\n",
            "Total params: 23,587,712\n",
            "Trainable params: 23,534,592\n",
            "Non-trainable params: 53,120\n",
            "__________________________________________________________________________________________________\n"
          ],
          "name": "stdout"
        }
      ]
    },
    {
      "cell_type": "markdown",
      "metadata": {
        "id": "_TV3tctZNjQL"
      },
      "source": [
        "# **Adding Fully Connected Layer on the top of pre-trained ResNet50 base layer**"
      ]
    },
    {
      "cell_type": "code",
      "metadata": {
        "id": "5lX9PyT8_Vwa",
        "colab": {
          "base_uri": "https://localhost:8080/"
        },
        "outputId": "213a25ec-2479-4ced-a175-f0afe57152bb"
      },
      "source": [
        "model = models.Sequential()\n",
        "model.add(resnet_base)\n",
        "model.add(keras.layers.Flatten())\n",
        "#model.add(layers.Dropout(0.5))\n",
        "#model.add(layers.Dense(2048, activation='relu'))\n",
        "model.add(keras.layers.Dense(2, activation = 'softmax'))\n",
        "model.summary()"
      ],
      "execution_count": null,
      "outputs": [
        {
          "output_type": "stream",
          "text": [
            "Model: \"sequential\"\n",
            "_________________________________________________________________\n",
            "Layer (type)                 Output Shape              Param #   \n",
            "=================================================================\n",
            "resnet50 (Functional)        (None, 7, 7, 2048)        23587712  \n",
            "_________________________________________________________________\n",
            "flatten (Flatten)            (None, 100352)            0         \n",
            "_________________________________________________________________\n",
            "dense (Dense)                (None, 2)                 200706    \n",
            "=================================================================\n",
            "Total params: 23,788,418\n",
            "Trainable params: 23,735,298\n",
            "Non-trainable params: 53,120\n",
            "_________________________________________________________________\n"
          ],
          "name": "stdout"
        }
      ]
    },
    {
      "cell_type": "markdown",
      "metadata": {
        "id": "8qx2_p_fNvi7"
      },
      "source": [
        "# **Freezing the pre-trained ResNet50 base**"
      ]
    },
    {
      "cell_type": "code",
      "metadata": {
        "id": "KJ9aLmBxDKX4"
      },
      "source": [
        "for layer in resnet_base.layers[:]:\n",
        "  layer.trainable = False"
      ],
      "execution_count": null,
      "outputs": []
    },
    {
      "cell_type": "markdown",
      "metadata": {
        "id": "nMdVEcc_N3Mw"
      },
      "source": [
        "Display the architecture of the full CNN model"
      ]
    },
    {
      "cell_type": "code",
      "metadata": {
        "id": "Q0h-nNf9JnMt",
        "colab": {
          "base_uri": "https://localhost:8080/"
        },
        "outputId": "45c884ab-3fc9-4912-cf87-9b2a3b05d20a"
      },
      "source": [
        "model.summary()"
      ],
      "execution_count": null,
      "outputs": [
        {
          "output_type": "stream",
          "text": [
            "Model: \"sequential\"\n",
            "_________________________________________________________________\n",
            "Layer (type)                 Output Shape              Param #   \n",
            "=================================================================\n",
            "resnet50 (Functional)        (None, 7, 7, 2048)        23587712  \n",
            "_________________________________________________________________\n",
            "flatten (Flatten)            (None, 100352)            0         \n",
            "_________________________________________________________________\n",
            "dense (Dense)                (None, 2)                 200706    \n",
            "=================================================================\n",
            "Total params: 23,788,418\n",
            "Trainable params: 200,706\n",
            "Non-trainable params: 23,587,712\n",
            "_________________________________________________________________\n"
          ],
          "name": "stdout"
        }
      ]
    },
    {
      "cell_type": "markdown",
      "metadata": {
        "id": "IO0ETCDYOFAx"
      },
      "source": [
        "Specifying the learning rate"
      ]
    },
    {
      "cell_type": "code",
      "metadata": {
        "id": "EUHN3OD1DaTc"
      },
      "source": [
        "learning_rate = 1e-4"
      ],
      "execution_count": null,
      "outputs": []
    },
    {
      "cell_type": "markdown",
      "metadata": {
        "id": "QIkkU6gqOJbP"
      },
      "source": [
        "Compile the CNN model"
      ]
    },
    {
      "cell_type": "code",
      "metadata": {
        "id": "UGb8gC1rEEu0"
      },
      "source": [
        "model.compile(optimizer=keras.optimizers.SGD(lr=learning_rate), loss='categorical_crossentropy', metrics=['accuracy'])"
      ],
      "execution_count": null,
      "outputs": []
    },
    {
      "cell_type": "markdown",
      "metadata": {
        "id": "F0wAt55ySYZc"
      },
      "source": [
        "Specifying the callbacks"
      ]
    },
    {
      "cell_type": "code",
      "metadata": {
        "id": "Tl5wDpYEhvrn"
      },
      "source": [
        "callbacks_list = [keras.callbacks.ModelCheckpoint(\n",
        "        filepath = 'resnet-baseline-SGD-model.h5',\n",
        "        monitor = 'val_loss',\n",
        "        save_best_only = True)]"
      ],
      "execution_count": null,
      "outputs": []
    },
    {
      "cell_type": "markdown",
      "metadata": {
        "id": "3nWCrUZaOPUH"
      },
      "source": [
        "# **Training the fully connected layer only (ResNet50 base is frozen)**"
      ]
    },
    {
      "cell_type": "code",
      "metadata": {
        "id": "YGI-PFJNEQgG",
        "colab": {
          "base_uri": "https://localhost:8080/"
        },
        "outputId": "3413507f-a7f5-45b4-b720-aa4e92292d6f"
      },
      "source": [
        "batch_size = 16\n",
        "history = model.fit(train_data,\n",
        "                             steps_per_epoch=train_images//batch_size,\n",
        "                             epochs=20,\n",
        "                             validation_data=valid_data,\n",
        "                             validation_steps=validation_images//batch_size,\n",
        "                             callbacks=callbacks_list)"
      ],
      "execution_count": null,
      "outputs": [
        {
          "output_type": "stream",
          "text": [
            "Epoch 1/20\n",
            "62/62 [==============================] - 25s 276ms/step - loss: 0.8751 - accuracy: 0.6794 - val_loss: 0.6096 - val_accuracy: 0.8562\n",
            "Epoch 2/20\n",
            "62/62 [==============================] - 16s 261ms/step - loss: 0.4937 - accuracy: 0.8234 - val_loss: 0.4633 - val_accuracy: 0.8750\n",
            "Epoch 3/20\n",
            "62/62 [==============================] - 16s 263ms/step - loss: 0.3836 - accuracy: 0.8733 - val_loss: 0.4133 - val_accuracy: 0.9062\n",
            "Epoch 4/20\n",
            "62/62 [==============================] - 16s 263ms/step - loss: 0.3128 - accuracy: 0.8812 - val_loss: 0.3183 - val_accuracy: 0.8938\n",
            "Epoch 5/20\n",
            "62/62 [==============================] - 16s 263ms/step - loss: 0.2806 - accuracy: 0.8918 - val_loss: 0.3561 - val_accuracy: 0.9000\n",
            "Epoch 6/20\n",
            "62/62 [==============================] - 16s 260ms/step - loss: 0.3510 - accuracy: 0.8908 - val_loss: 0.2895 - val_accuracy: 0.9125\n",
            "Epoch 7/20\n",
            "62/62 [==============================] - 16s 264ms/step - loss: 0.1964 - accuracy: 0.9262 - val_loss: 0.2999 - val_accuracy: 0.9000\n",
            "Epoch 8/20\n",
            "62/62 [==============================] - 16s 256ms/step - loss: 0.2400 - accuracy: 0.9111 - val_loss: 0.2770 - val_accuracy: 0.9062\n",
            "Epoch 9/20\n",
            "62/62 [==============================] - 16s 261ms/step - loss: 0.1940 - accuracy: 0.9228 - val_loss: 0.2835 - val_accuracy: 0.9250\n",
            "Epoch 10/20\n",
            "62/62 [==============================] - 16s 262ms/step - loss: 0.1684 - accuracy: 0.9273 - val_loss: 0.2285 - val_accuracy: 0.9250\n",
            "Epoch 11/20\n",
            "62/62 [==============================] - 16s 259ms/step - loss: 0.1634 - accuracy: 0.9409 - val_loss: 0.2702 - val_accuracy: 0.9250\n",
            "Epoch 12/20\n",
            "62/62 [==============================] - 16s 264ms/step - loss: 0.1337 - accuracy: 0.9413 - val_loss: 0.2708 - val_accuracy: 0.9187\n",
            "Epoch 13/20\n",
            "62/62 [==============================] - 16s 261ms/step - loss: 0.1442 - accuracy: 0.9348 - val_loss: 0.2649 - val_accuracy: 0.9250\n",
            "Epoch 14/20\n",
            "62/62 [==============================] - 16s 258ms/step - loss: 0.1049 - accuracy: 0.9631 - val_loss: 0.2426 - val_accuracy: 0.9062\n",
            "Epoch 15/20\n",
            "62/62 [==============================] - 16s 259ms/step - loss: 0.1034 - accuracy: 0.9619 - val_loss: 0.2713 - val_accuracy: 0.9000\n",
            "Epoch 16/20\n",
            "62/62 [==============================] - 16s 259ms/step - loss: 0.1454 - accuracy: 0.9388 - val_loss: 0.2436 - val_accuracy: 0.9250\n",
            "Epoch 17/20\n",
            "62/62 [==============================] - 16s 261ms/step - loss: 0.1228 - accuracy: 0.9597 - val_loss: 0.2407 - val_accuracy: 0.9250\n",
            "Epoch 18/20\n",
            "62/62 [==============================] - 16s 261ms/step - loss: 0.1091 - accuracy: 0.9552 - val_loss: 0.2124 - val_accuracy: 0.9250\n",
            "Epoch 19/20\n",
            "62/62 [==============================] - 16s 259ms/step - loss: 0.0917 - accuracy: 0.9631 - val_loss: 0.2136 - val_accuracy: 0.9375\n",
            "Epoch 20/20\n",
            "62/62 [==============================] - 16s 260ms/step - loss: 0.1263 - accuracy: 0.9437 - val_loss: 0.1992 - val_accuracy: 0.9312\n"
          ],
          "name": "stdout"
        }
      ]
    },
    {
      "cell_type": "code",
      "metadata": {
        "id": "Gv4uv-Qi5uMV"
      },
      "source": [
        "model = load_model(\"/content/resnet-baseline-SGD-model.h5\")"
      ],
      "execution_count": null,
      "outputs": []
    },
    {
      "cell_type": "markdown",
      "metadata": {
        "id": "dS-6V8M9PPlu"
      },
      "source": [
        "# **Plot the learning curves for Accuracy and Loss**"
      ]
    },
    {
      "cell_type": "code",
      "metadata": {
        "id": "-dBpyrRuV89O",
        "colab": {
          "base_uri": "https://localhost:8080/",
          "height": 573
        },
        "outputId": "4db53813-42fc-416e-81b9-07c75dee074d"
      },
      "source": [
        "plt.plot(history.history['accuracy'])\n",
        "plt.plot(history.history['val_accuracy'])\n",
        "plt.title('Training and validation accuracy')\n",
        "plt.ylabel('accuracy')\n",
        "plt.xlabel('epoch')\n",
        "plt.minorticks_on()\n",
        "plt.grid(True)\n",
        "plt.legend(['train', 'validation'], loc='upper left')\n",
        "# save image to disk\n",
        "plt.savefig('RESNET Final Model Accuracy', dpi=250)\n",
        "plt.show()\n",
        "\n",
        "# summarize history for loss\n",
        "plt.plot(history.history['loss'])\n",
        "plt.plot(history.history['val_loss'])\n",
        "plt.title('Training and validation loss')\n",
        "plt.ylabel('loss')\n",
        "plt.xlabel('epoch')\n",
        "plt.minorticks_on()\n",
        "plt.grid(True)\n",
        "plt.legend(['train', 'validation'], loc='upper left')\n",
        "# save image to disk\n",
        "plt.savefig('RESNET Final Model Loss', dpi=250)\n",
        "plt.show()"
      ],
      "execution_count": null,
      "outputs": [
        {
          "output_type": "display_data",
          "data": {
            "image/png": "[encoded data removed]",
            "text/plain": [
              "<Figure size 432x288 with 1 Axes>"
            ]
          },
          "metadata": {
            "tags": [],
            "needs_background": "light"
          }
        },
        {
          "output_type": "display_data",
          "data": {
            "image/png": "[encoded data removed]",
            "text/plain": [
              "<Figure size 432x288 with 1 Axes>"
            ]
          },
          "metadata": {
            "tags": [],
            "needs_background": "light"
          }
        }
      ]
    },
    {
      "cell_type": "markdown",
      "metadata": {
        "id": "IfeK6dlBPXy9"
      },
      "source": [
        "# **Evaluate the model**"
      ]
    },
    {
      "cell_type": "code",
      "metadata": {
        "id": "10SyI4eZWFaN",
        "colab": {
          "base_uri": "https://localhost:8080/"
        },
        "outputId": "72bc9fde-fe62-4c63-9ced-7175e30e71f5"
      },
      "source": [
        "validation_datagen = ImageDataGenerator()\n",
        "evaluate_datagen = validation_datagen.flow_from_directory(validation_dir, class_mode='categorical', target_size=(224,224), batch_size=1,shuffle=False)"
      ],
      "execution_count": null,
      "outputs": [
        {
          "output_type": "stream",
          "text": [
            "Found 160 images belonging to 2 classes.\n"
          ],
          "name": "stdout"
        }
      ]
    },
    {
      "cell_type": "code",
      "metadata": {
        "id": "hKktpvTUWGHB",
        "colab": {
          "base_uri": "https://localhost:8080/"
        },
        "outputId": "e5d3b9aa-2264-411e-bd91-411d67fbe2d7"
      },
      "source": [
        "print('Validate the model')\n",
        "final_result = model.evaluate(\n",
        "    evaluate_datagen,\n",
        "    steps = validation_images)"
      ],
      "execution_count": null,
      "outputs": [
        {
          "output_type": "stream",
          "text": [
            "Validate the model\n",
            "160/160 [==============================] - 3s 13ms/step - loss: 0.1992 - accuracy: 0.9312\n"
          ],
          "name": "stdout"
        }
      ]
    },
    {
      "cell_type": "code",
      "metadata": {
        "id": "hJqjG_NWWXy3",
        "colab": {
          "base_uri": "https://localhost:8080/"
        },
        "outputId": "8aa03f25-340e-4147-89db-c862b3436abc"
      },
      "source": [
        "t0 = time()\n",
        "evaluate_datagen.reset()\n",
        "val_predict = model.predict(\n",
        "    evaluate_datagen,\n",
        "    steps = validation_images,\n",
        "    verbose = 1)\n",
        "print('Time taken to evaluate the model:',int(time()-t0),'seconds')"
      ],
      "execution_count": null,
      "outputs": [
        {
          "output_type": "stream",
          "text": [
            "160/160 [==============================] - 3s 11ms/step\n",
            "Time taken to evaluate the model: 2 seconds\n"
          ],
          "name": "stdout"
        }
      ]
    },
    {
      "cell_type": "markdown",
      "metadata": {
        "id": "uRwli2CcPfs6"
      },
      "source": [
        "# **Produce a classification report for Validation set**"
      ]
    },
    {
      "cell_type": "code",
      "metadata": {
        "id": "UMjZgx4oWITH",
        "colab": {
          "base_uri": "https://localhost:8080/"
        },
        "outputId": "787268e6-bcb4-404b-ebb5-d51e7e2ea1ec"
      },
      "source": [
        "validation_samples = val_predict.shape[0]\n",
        "print('Number of data points in validation set:',validation_samples)"
      ],
      "execution_count": null,
      "outputs": [
        {
          "output_type": "stream",
          "text": [
            "Number of data points in validation set: 160\n"
          ],
          "name": "stdout"
        }
      ]
    },
    {
      "cell_type": "code",
      "metadata": {
        "id": "JIXPZyogWfkG"
      },
      "source": [
        "val_predicted_classes = np.argmax(val_predict, axis = 1)\n",
        "val_true_classes = evaluate_datagen.classes\n",
        "val_class_labels = list(evaluate_datagen.class_indices.keys())"
      ],
      "execution_count": null,
      "outputs": []
    },
    {
      "cell_type": "markdown",
      "metadata": {
        "id": "ceVs-D1wPmYV"
      },
      "source": [
        "Performance metrics for Validation set"
      ]
    },
    {
      "cell_type": "code",
      "metadata": {
        "id": "mEZ-z2bhWhFM",
        "colab": {
          "base_uri": "https://localhost:8080/"
        },
        "outputId": "c7e94315-3a6f-4fcf-9d4d-cfdaf27059a0"
      },
      "source": [
        "validation_report = metrics.classification_report(val_true_classes, val_predicted_classes, target_names=val_class_labels)\n",
        "print('The validation report is as follows:')\n",
        "print(validation_report)"
      ],
      "execution_count": null,
      "outputs": [
        {
          "output_type": "stream",
          "text": [
            "The validation report is as follows:\n",
            "              precision    recall  f1-score   support\n",
            "\n",
            "    Accident       0.93      0.92      0.93        75\n",
            " No Accident       0.93      0.94      0.94        85\n",
            "\n",
            "    accuracy                           0.93       160\n",
            "   macro avg       0.93      0.93      0.93       160\n",
            "weighted avg       0.93      0.93      0.93       160\n",
            "\n"
          ],
          "name": "stdout"
        }
      ]
    },
    {
      "cell_type": "markdown",
      "metadata": {
        "id": "Ei6_syddPre-"
      },
      "source": [
        "Confusion matrix with the numbers of true and predicted labels for each class in Validation set"
      ]
    },
    {
      "cell_type": "code",
      "metadata": {
        "id": "2I_YPBvvWi_f",
        "colab": {
          "base_uri": "https://localhost:8080/"
        },
        "outputId": "9d26139f-0867-4e51-a0f9-88746270745d"
      },
      "source": [
        "val_conf_matrix = tf.math.confusion_matrix(labels=val_true_classes, predictions=val_predicted_classes).numpy()\n",
        "print(val_conf_matrix)"
      ],
      "execution_count": null,
      "outputs": [
        {
          "output_type": "stream",
          "text": [
            "[[69  6]\n",
            " [ 5 80]]\n"
          ],
          "name": "stdout"
        }
      ]
    },
    {
      "cell_type": "markdown",
      "metadata": {
        "id": "bOtRJYyaP2Fa"
      },
      "source": [
        "Visualization of Confusion Matrix for Validation set"
      ]
    },
    {
      "cell_type": "code",
      "metadata": {
        "id": "1SXqZ3IxWmHh",
        "colab": {
          "base_uri": "https://localhost:8080/",
          "height": 311
        },
        "outputId": "dea96860-5fc5-4319-da7c-279b5be88276"
      },
      "source": [
        "figure1 = plt.figure()\n",
        "sns.heatmap(val_conf_matrix, annot = True, cmap=plt.cm.Greens)\n",
        "plt.tight_layout()\n",
        "plt.ylabel('True Label')\n",
        "plt.xlabel('Predicted label')\n",
        "plt.savefig('Validation data Confusion Matrix', dpi=250)\n",
        "plt.show()"
      ],
      "execution_count": null,
      "outputs": [
        {
          "output_type": "display_data",
          "data": {
            "image/png": "[encoded data removed]",
            "text/plain": [
              "<Figure size 432x288 with 2 Axes>"
            ]
          },
          "metadata": {
            "tags": [],
            "needs_background": "light"
          }
        }
      ]
    },
    {
      "cell_type": "markdown",
      "metadata": {
        "id": "NoMFs95HQCVw"
      },
      "source": [
        "# **Test the model**"
      ]
    },
    {
      "cell_type": "code",
      "metadata": {
        "id": "SBKA83G-WoGJ",
        "colab": {
          "base_uri": "https://localhost:8080/"
        },
        "outputId": "7857252f-b64c-49df-ca40-a463381e9bc2"
      },
      "source": [
        "testing_datagen = ImageDataGenerator()\n",
        "test_data_datagen = testing_datagen.flow_from_directory(testing_dir, class_mode='categorical', target_size=(224,224), batch_size=1,shuffle=False)"
      ],
      "execution_count": null,
      "outputs": [
        {
          "output_type": "stream",
          "text": [
            "Found 79 images belonging to 2 classes.\n"
          ],
          "name": "stdout"
        }
      ]
    },
    {
      "cell_type": "code",
      "metadata": {
        "id": "2z2ceUuSWqld",
        "colab": {
          "base_uri": "https://localhost:8080/"
        },
        "outputId": "fbb7e2e8-bba8-4508-a7d9-9d757a69b631"
      },
      "source": [
        "print('Testing the model')\n",
        "final_result = model.evaluate(\n",
        "    test_data_datagen,\n",
        "    steps = test_images)"
      ],
      "execution_count": null,
      "outputs": [
        {
          "output_type": "stream",
          "text": [
            "Testing the model\n",
            "79/79 [==============================] - 1s 16ms/step - loss: 0.3214 - accuracy: 0.8861\n"
          ],
          "name": "stdout"
        }
      ]
    },
    {
      "cell_type": "code",
      "metadata": {
        "id": "qhxESfZqWtiS",
        "colab": {
          "base_uri": "https://localhost:8080/"
        },
        "outputId": "09cce097-49ea-49bd-e862-b17632cd6e54"
      },
      "source": [
        "test_data_datagen.reset()\n",
        "predict_on_test_data = model.predict(\n",
        "    test_data_datagen,\n",
        "    steps = test_images,\n",
        "    verbose = 1\n",
        ")"
      ],
      "execution_count": null,
      "outputs": [
        {
          "output_type": "stream",
          "text": [
            "79/79 [==============================] - 1s 14ms/step\n"
          ],
          "name": "stdout"
        }
      ]
    },
    {
      "cell_type": "code",
      "metadata": {
        "id": "19-UySqRWv2p",
        "colab": {
          "base_uri": "https://localhost:8080/"
        },
        "outputId": "7fb4e2bd-c5b8-45e2-a3b7-f6b40290ea1a"
      },
      "source": [
        "print('Number of data points in test set:',predict_on_test_data.shape[0])"
      ],
      "execution_count": null,
      "outputs": [
        {
          "output_type": "stream",
          "text": [
            "Number of data points in test set: 79\n"
          ],
          "name": "stdout"
        }
      ]
    },
    {
      "cell_type": "markdown",
      "metadata": {
        "id": "_Tw96ECKQGJk"
      },
      "source": [
        "# **Produce a classification report for Test set**"
      ]
    },
    {
      "cell_type": "code",
      "metadata": {
        "id": "a_Cht_46WyXu"
      },
      "source": [
        "predicted_classes = np.argmax(predict_on_test_data,axis=1)\n",
        "predict_true_classes = test_data_datagen.classes\n",
        "predict_class_labels = list(test_data_datagen.class_indices.keys())"
      ],
      "execution_count": null,
      "outputs": []
    },
    {
      "cell_type": "markdown",
      "metadata": {
        "id": "mYj579BlQLre"
      },
      "source": [
        "Performance metrics for Test set"
      ]
    },
    {
      "cell_type": "code",
      "metadata": {
        "id": "sfeZoEg-WzdU",
        "colab": {
          "base_uri": "https://localhost:8080/"
        },
        "outputId": "76a1e6e5-66bb-417a-ba05-1f012509fed8"
      },
      "source": [
        "test_report = metrics.classification_report(predict_true_classes, predicted_classes, target_names = predict_class_labels)\n",
        "print(test_report)"
      ],
      "execution_count": null,
      "outputs": [
        {
          "output_type": "stream",
          "text": [
            "              precision    recall  f1-score   support\n",
            "\n",
            "    Accident       0.84      0.87      0.85        30\n",
            " No Accident       0.92      0.90      0.91        49\n",
            "\n",
            "    accuracy                           0.89        79\n",
            "   macro avg       0.88      0.88      0.88        79\n",
            "weighted avg       0.89      0.89      0.89        79\n",
            "\n"
          ],
          "name": "stdout"
        }
      ]
    },
    {
      "cell_type": "markdown",
      "metadata": {
        "id": "Vnms-uicQTpy"
      },
      "source": [
        "Confusion matrix with the numbers of true and predicted labels for each class in Test set"
      ]
    },
    {
      "cell_type": "code",
      "metadata": {
        "id": "ayi1YZ58W0xb",
        "colab": {
          "base_uri": "https://localhost:8080/"
        },
        "outputId": "66955efd-b2f1-4224-e95f-7408f64aeefd"
      },
      "source": [
        "test_confusion_matrix = tf.math.confusion_matrix(labels=predict_true_classes,predictions = predicted_classes).numpy()\n",
        "print(test_confusion_matrix)"
      ],
      "execution_count": null,
      "outputs": [
        {
          "output_type": "stream",
          "text": [
            "[[26  4]\n",
            " [ 5 44]]\n"
          ],
          "name": "stdout"
        }
      ]
    },
    {
      "cell_type": "markdown",
      "metadata": {
        "id": "xVJTy5MUQbsH"
      },
      "source": [
        "Visualization of Confusion Matrix for Test set"
      ]
    },
    {
      "cell_type": "code",
      "metadata": {
        "id": "iO0gp59aW3V9",
        "colab": {
          "base_uri": "https://localhost:8080/",
          "height": 311
        },
        "outputId": "8371cbd1-c44f-45e0-9e64-ba96894b3ae9"
      },
      "source": [
        "figure1 = plt.figure()\n",
        "sns.heatmap(test_confusion_matrix, annot = True, cmap=plt.cm.Greens)\n",
        "plt.tight_layout()\n",
        "plt.ylabel('True Label')\n",
        "plt.xlabel('Predicted label')\n",
        "plt.savefig('Test data Confusion Matrix', dpi=250)\n",
        "plt.show()"
      ],
      "execution_count": null,
      "outputs": [
        {
          "output_type": "display_data",
          "data": {
            "image/png": "[encoded data removed]",
            "text/plain": [
              "<Figure size 432x288 with 2 Axes>"
            ]
          },
          "metadata": {
            "tags": [],
            "needs_background": "light"
          }
        }
      ]
    }
  ]
}
