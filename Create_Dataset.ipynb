{
  "nbformat": 4,
  "nbformat_minor": 0,
  "metadata": {
    "colab": {
      "name": "Create_Dataset.ipynb",
      "provenance": [],
      "collapsed_sections": []
    },
    "kernelspec": {
      "name": "python3",
      "display_name": "Python 3"
    }
  },
  "cells": [
    {
      "cell_type": "code",
      "metadata": {
        "id": "TYpNqFv1qL1_"
      },
      "source": [
        "# import numpy\r\n",
        "import numpy as np\r\n",
        "\r\n",
        "# import pandas\r\n",
        "import pandas as pd\r\n",
        "\r\n",
        "# import csv to access the csv files\r\n",
        "import csv\r\n",
        "\r\n",
        "# import drive to access the data from GDrive\r\n",
        "from google.colab import drive\r\n",
        "\r\n",
        "import os\r\n",
        "\r\n",
        "import shutil"
      ],
      "execution_count": null,
      "outputs": []
    },
    {
      "cell_type": "code",
      "metadata": {
        "colab": {
          "base_uri": "https://localhost:8080/"
        },
        "id": "43JAadHlqcDF",
        "outputId": "cd0dbeed-b4c8-440f-cca7-4ee6b1dd398d"
      },
      "source": [
        "drive.mount('/content/drive/', force_remount=True)"
      ],
      "execution_count": null,
      "outputs": [
        {
          "output_type": "stream",
          "text": [
            "Mounted at /content/drive/\n"
          ],
          "name": "stdout"
        }
      ]
    },
    {
      "cell_type": "code",
      "metadata": {
        "id": "iVMC3o3fqn79"
      },
      "source": [
        "details = pd.read_csv('/content/drive/MyDrive/Group Project/Group Project/Unproc_NoAcc_Labels.csv', names=['im_name', 'classname'])"
      ],
      "execution_count": null,
      "outputs": []
    },
    {
      "cell_type": "code",
      "metadata": {
        "colab": {
          "base_uri": "https://localhost:8080/",
          "height": 200
        },
        "id": "TbQG_36dsjoW",
        "outputId": "6f95430a-c0dc-43ef-ba13-9e38a812f0a9"
      },
      "source": [
        "details.head()"
      ],
      "execution_count": null,
      "outputs": [
        {
          "output_type": "execute_result",
          "data": {
            "text/html": [
              "<div>\n",
              "<style scoped>\n",
              "    .dataframe tbody tr th:only-of-type {\n",
              "        vertical-align: middle;\n",
              "    }\n",
              "\n",
              "    .dataframe tbody tr th {\n",
              "        vertical-align: top;\n",
              "    }\n",
              "\n",
              "    .dataframe thead th {\n",
              "        text-align: right;\n",
              "    }\n",
              "</style>\n",
              "<table border=\"1\" class=\"dataframe\">\n",
              "  <thead>\n",
              "    <tr style=\"text-align: right;\">\n",
              "      <th></th>\n",
              "      <th>im_name</th>\n",
              "      <th>classname</th>\n",
              "    </tr>\n",
              "  </thead>\n",
              "  <tbody>\n",
              "    <tr>\n",
              "      <th>0</th>\n",
              "      <td>0a4508112c.jpg</td>\n",
              "      <td>[No Acc]</td>\n",
              "    </tr>\n",
              "    <tr>\n",
              "      <th>1</th>\n",
              "      <td>0b057b84f2.jpg</td>\n",
              "      <td>[Waste]</td>\n",
              "    </tr>\n",
              "    <tr>\n",
              "      <th>2</th>\n",
              "      <td>0bbd6ec832.jpg</td>\n",
              "      <td>[Waste]</td>\n",
              "    </tr>\n",
              "    <tr>\n",
              "      <th>3</th>\n",
              "      <td>0bd3a59bb9.jpg</td>\n",
              "      <td>[No Acc]</td>\n",
              "    </tr>\n",
              "    <tr>\n",
              "      <th>4</th>\n",
              "      <td>0c08e83f26.jpg</td>\n",
              "      <td>[No Acc]</td>\n",
              "    </tr>\n",
              "  </tbody>\n",
              "</table>\n",
              "</div>"
            ],
            "text/plain": [
              "          im_name classname\n",
              "0  0a4508112c.jpg  [No Acc]\n",
              "1  0b057b84f2.jpg   [Waste]\n",
              "2  0bbd6ec832.jpg   [Waste]\n",
              "3  0bd3a59bb9.jpg  [No Acc]\n",
              "4  0c08e83f26.jpg  [No Acc]"
            ]
          },
          "metadata": {
            "tags": []
          },
          "execution_count": 58
        }
      ]
    },
    {
      "cell_type": "code",
      "metadata": {
        "colab": {
          "base_uri": "https://localhost:8080/"
        },
        "id": "IOKQeLM_wZTr",
        "outputId": "23d18d3f-175e-4393-a070-fa4e5d77a10c"
      },
      "source": [
        "len(details)"
      ],
      "execution_count": null,
      "outputs": [
        {
          "output_type": "execute_result",
          "data": {
            "text/plain": [
              "609"
            ]
          },
          "metadata": {
            "tags": []
          },
          "execution_count": 59
        }
      ]
    },
    {
      "cell_type": "code",
      "metadata": {
        "id": "QT3hlcIxsoaT"
      },
      "source": [
        "new_details = details[['im_name','classname']][details['classname']=='[No Acc]']"
      ],
      "execution_count": null,
      "outputs": []
    },
    {
      "cell_type": "code",
      "metadata": {
        "colab": {
          "base_uri": "https://localhost:8080/",
          "height": 200
        },
        "id": "cYpMlV8Rs3pC",
        "outputId": "d2751a02-16e7-482f-f780-ade231918e93"
      },
      "source": [
        "new_details.head()"
      ],
      "execution_count": null,
      "outputs": [
        {
          "output_type": "execute_result",
          "data": {
            "text/html": [
              "<div>\n",
              "<style scoped>\n",
              "    .dataframe tbody tr th:only-of-type {\n",
              "        vertical-align: middle;\n",
              "    }\n",
              "\n",
              "    .dataframe tbody tr th {\n",
              "        vertical-align: top;\n",
              "    }\n",
              "\n",
              "    .dataframe thead th {\n",
              "        text-align: right;\n",
              "    }\n",
              "</style>\n",
              "<table border=\"1\" class=\"dataframe\">\n",
              "  <thead>\n",
              "    <tr style=\"text-align: right;\">\n",
              "      <th></th>\n",
              "      <th>im_name</th>\n",
              "      <th>classname</th>\n",
              "    </tr>\n",
              "  </thead>\n",
              "  <tbody>\n",
              "    <tr>\n",
              "      <th>0</th>\n",
              "      <td>0a4508112c.jpg</td>\n",
              "      <td>[No Acc]</td>\n",
              "    </tr>\n",
              "    <tr>\n",
              "      <th>3</th>\n",
              "      <td>0bd3a59bb9.jpg</td>\n",
              "      <td>[No Acc]</td>\n",
              "    </tr>\n",
              "    <tr>\n",
              "      <th>4</th>\n",
              "      <td>0c08e83f26.jpg</td>\n",
              "      <td>[No Acc]</td>\n",
              "    </tr>\n",
              "    <tr>\n",
              "      <th>5</th>\n",
              "      <td>0c68dadc83.jpg</td>\n",
              "      <td>[No Acc]</td>\n",
              "    </tr>\n",
              "    <tr>\n",
              "      <th>6</th>\n",
              "      <td>0c574b4e0f.jpg</td>\n",
              "      <td>[No Acc]</td>\n",
              "    </tr>\n",
              "  </tbody>\n",
              "</table>\n",
              "</div>"
            ],
            "text/plain": [
              "          im_name classname\n",
              "0  0a4508112c.jpg  [No Acc]\n",
              "3  0bd3a59bb9.jpg  [No Acc]\n",
              "4  0c08e83f26.jpg  [No Acc]\n",
              "5  0c68dadc83.jpg  [No Acc]\n",
              "6  0c574b4e0f.jpg  [No Acc]"
            ]
          },
          "metadata": {
            "tags": []
          },
          "execution_count": 61
        }
      ]
    },
    {
      "cell_type": "code",
      "metadata": {
        "colab": {
          "base_uri": "https://localhost:8080/"
        },
        "id": "SUB5T0OztWyT",
        "outputId": "c1e88147-b358-4007-df44-0a6fb412a79c"
      },
      "source": [
        "len(new_details)"
      ],
      "execution_count": null,
      "outputs": [
        {
          "output_type": "execute_result",
          "data": {
            "text/plain": [
              "251"
            ]
          },
          "metadata": {
            "tags": []
          },
          "execution_count": 62
        }
      ]
    },
    {
      "cell_type": "code",
      "metadata": {
        "id": "7Xks-_iit7rs"
      },
      "source": [
        "tr = new_details['im_name'].to_list()"
      ],
      "execution_count": null,
      "outputs": []
    },
    {
      "cell_type": "code",
      "metadata": {
        "colab": {
          "base_uri": "https://localhost:8080/"
        },
        "id": "91NBTvW0uNUd",
        "outputId": "48b4b712-4e5c-49d0-c512-2e4ed6f7e97a"
      },
      "source": [
        "tr"
      ],
      "execution_count": null,
      "outputs": [
        {
          "output_type": "execute_result",
          "data": {
            "text/plain": [
              "['0a4508112c.jpg',\n",
              " '0bd3a59bb9.jpg',\n",
              " '0c08e83f26.jpg',\n",
              " '0c68dadc83.jpg',\n",
              " '0c574b4e0f.jpg',\n",
              " '0d9d1dd171.jpg',\n",
              " '0df3245135.jpg',\n",
              " '0e3e7f409b.jpg',\n",
              " '0e8b3a3159.jpg',\n",
              " '0ed8e3f680.jpg',\n",
              " '0f6b68e09a.jpg',\n",
              " '0f21edc0e7.jpg',\n",
              " '01e2ff57f3.jpg',\n",
              " '1a54512b10.jpg',\n",
              " '1b2b8decf6.jpg',\n",
              " '1ba5bbadd1.jpg',\n",
              " '1cf659952b.jpg',\n",
              " '1e17b6c7ba.jpg',\n",
              " '1e64b88b9c.jpg',\n",
              " '1f6433752f.jpg',\n",
              " '2a2ada7e29.jpg',\n",
              " '2a54e8dece.jpg',\n",
              " '2b7a2be009.jpg',\n",
              " '2b12519aa2.jpg',\n",
              " '2c0d0ee0fe.jpg',\n",
              " '2c9f013c61.jpg',\n",
              " '2c29bfd56d.jpg',\n",
              " '2c2162834d.jpg',\n",
              " '2d5c31cfd1.jpg',\n",
              " '2e0f19fcad.jpg',\n",
              " '2e33c77e0a.jpg',\n",
              " '2fde1d87e8.jpg',\n",
              " '2ff0d78df2.jpg',\n",
              " '3a72337e41.jpg',\n",
              " '3ae1f58bfa.jpg',\n",
              " '3aff692211.jpg',\n",
              " '3b7f0e769e.jpg',\n",
              " '3b5867cea7.jpg',\n",
              " '3c94e443c0.jpg',\n",
              " '3d4f27bae2.jpg',\n",
              " '3d5ec343e8.jpg',\n",
              " '3dee733e13.jpg',\n",
              " '3e9be93d44.jpg',\n",
              " '3e515b83e9.jpg',\n",
              " '3f1f29db8b.jpg',\n",
              " '3f106775c2.jpg',\n",
              " '3f52461722.jpg',\n",
              " '4a547d25e6.jpg',\n",
              " '4a3033ba77.jpg',\n",
              " '4aac3a439a.jpg',\n",
              " '4b9d9b047c.jpg',\n",
              " '4b5124505f.jpg',\n",
              " '4bbbc061c9.jpg',\n",
              " '4c8ab58b1a.jpg',\n",
              " '4caf23a893.jpg',\n",
              " '4cd5f98d28.jpg',\n",
              " '4faf1b14cc.jpg',\n",
              " '05d18cc0fe.jpg',\n",
              " '5a0ed1cc50.jpg',\n",
              " '5bf8b8a14f.jpg',\n",
              " '5cf2847ca6.jpg',\n",
              " '5de2f3995f.jpg',\n",
              " '5dfcb1c3e1.jpg',\n",
              " '5ee7b6069a.jpg',\n",
              " '6a1430fce1.jpg',\n",
              " '6bf2bf17a8.jpg',\n",
              " '6d0be8d7d7.jpg',\n",
              " '6d1c48be5b.jpg',\n",
              " '6d92b34fe3.jpg',\n",
              " '6ee5b54c3b.jpg',\n",
              " '7a75f6437c.jpg',\n",
              " '7aa34d5e41.jpg',\n",
              " '7ad8739293.jpg',\n",
              " '7afca64026.jpg',\n",
              " '7babc0ad74.jpg',\n",
              " '7bbffa42a9.jpg',\n",
              " '7c617c0313.jpg',\n",
              " '7d855c6116.jpg',\n",
              " '7da3804854.jpg',\n",
              " '7e9d969bf0.jpg',\n",
              " '7fb3b654fa.jpg',\n",
              " '7ff964cb42.jpg',\n",
              " '8a4b7fe76f.jpg',\n",
              " '8a51210a5c.jpg',\n",
              " '8a69519083.jpg',\n",
              " '8aa0b61ff6.jpg',\n",
              " '8aba745478.jpg',\n",
              " '8ac845449e.jpg',\n",
              " '8ba1d54a89.jpg',\n",
              " '8c58eee55c.jpg',\n",
              " '8c172f1f6c.jpg',\n",
              " '8c1851a7c4.jpg',\n",
              " '8c7592b59c.jpg',\n",
              " '8cb2d666d1.jpg',\n",
              " '8fa3565087.jpg',\n",
              " '8fe67fc8df.jpg',\n",
              " '8ffefb6da8.jpg',\n",
              " '9a6e6eb384.jpg',\n",
              " '9a0401584b.jpg',\n",
              " '9bd23599a8.jpg',\n",
              " '9c3c134720.jpg',\n",
              " '9d6e7b58b5.jpg',\n",
              " '9d9e533d9f.jpg',\n",
              " '9ee9dad3b6.jpg',\n",
              " '10f08a8323.jpg',\n",
              " '11ce3635a3.jpg',\n",
              " '11dd08c972.jpg',\n",
              " '12e41c0df1.jpg',\n",
              " '14eb93806e.jpg',\n",
              " '18f0257581.jpg',\n",
              " '20d5d03020.jpg',\n",
              " '20e02bc221.jpg',\n",
              " '20e4cc017c.jpg',\n",
              " '25a7b66809.jpg',\n",
              " '25eed18a28.jpg',\n",
              " '27c272c803.jpg',\n",
              " '27eeb98a3f.jpg',\n",
              " '28a87d8a23.jpg',\n",
              " '029a3d6b43.jpg',\n",
              " '29fb7da534.jpg',\n",
              " '31b6f4a742.jpg',\n",
              " '31e1e79012.jpg',\n",
              " '32bd907cf0.jpg',\n",
              " '33fcf761e6.jpg',\n",
              " '34bab4b930.jpg',\n",
              " '35abc018b5.jpg',\n",
              " '41b07926e6.jpg',\n",
              " '42c783ca34.jpg',\n",
              " '43eacf318b.jpg',\n",
              " '45e1e179d4.jpg',\n",
              " '46ba520174.jpg',\n",
              " '48e637eb21.jpg',\n",
              " '49a0bd6676.jpg',\n",
              " '49afcf8319.jpg',\n",
              " '50f1ac09f1.jpg',\n",
              " '51ad981ea1.jpg',\n",
              " '52bf869cf5.jpg',\n",
              " '56b620a2ba.jpg',\n",
              " '0061e433df.jpg',\n",
              " '63bb485ac3.jpg',\n",
              " '66f5c59978.jpg',\n",
              " '67ba5b0f6a.jpg',\n",
              " '67e5b0779c.jpg',\n",
              " '68e264b1f4.jpg',\n",
              " '68fa2b84b5.jpg',\n",
              " '69ae215db6.jpg',\n",
              " '70b45e3c9e.jpg',\n",
              " '70f3f41333.jpg',\n",
              " '71f4dca9ed.jpg',\n",
              " '72a604b256.jpg',\n",
              " '72d92ebd66.jpg',\n",
              " '77c6a497ed.jpg',\n",
              " '77c24a3592.jpg',\n",
              " '78c299531c.jpg',\n",
              " '81a6df5326.jpg',\n",
              " '81a93bac04.jpg',\n",
              " '81b448a12f.jpg',\n",
              " '81b5725022.jpg',\n",
              " '81e1f45af5.jpg',\n",
              " '87a4ba0a96.jpg',\n",
              " '87a4c69472.jpg',\n",
              " '87a9cdd066.jpg',\n",
              " '89b318b3f9.jpg',\n",
              " '89d712cebd.jpg',\n",
              " '90ccff6d54.jpg',\n",
              " '95fb47e464.jpg',\n",
              " '096e3cf6d0.jpg',\n",
              " '96db060daa.jpg',\n",
              " '97ac9557c9.jpg',\n",
              " '98a6e3e537.jpg',\n",
              " '98f5837c4d.jpg',\n",
              " '99e54b755a.jpg',\n",
              " '124ba59388.jpg',\n",
              " '129cd29676.jpg',\n",
              " '133acfa6b8.jpg',\n",
              " '139c84c828.jpg',\n",
              " '171ebb4a26.jpg',\n",
              " '200a23e41d.jpg',\n",
              " '242c9b95e9.jpg',\n",
              " '246fc143bb.jpg',\n",
              " '282abeb13d.jpg',\n",
              " '289bf76085.jpg',\n",
              " '330a39841d.jpg',\n",
              " '351e0639fe.jpg',\n",
              " '357a62bf4d.jpg',\n",
              " '357bd333d9.jpg',\n",
              " '371cf1ced5.jpg',\n",
              " '376d4106a8.jpg',\n",
              " '382aba66ff.jpg',\n",
              " '404d3292de.jpg',\n",
              " '510dc9e3b1.jpg',\n",
              " '541bae3120.jpg',\n",
              " '541e0d50d2.jpg',\n",
              " '656b8a3d41.jpg',\n",
              " '687b547c9d.jpg',\n",
              " '0697b70476.jpg',\n",
              " '708ea2e567.jpg',\n",
              " '724f212964.jpg',\n",
              " '730f84f29e.jpg',\n",
              " '756bf57483.jpg',\n",
              " '756eb095aa.jpg',\n",
              " '788a841075.jpg',\n",
              " '827fcd8dc9.jpg',\n",
              " '871dd621d8.jpg',\n",
              " '893c58e8b4.jpg',\n",
              " '906bcfe1ac.jpg',\n",
              " '1044ac7f2c.jpg',\n",
              " '1054befed9.jpg',\n",
              " '1203fc8bdf.jpg',\n",
              " '2783d7f2af.jpg',\n",
              " '2808d57af6.jpg',\n",
              " '04842c37c9.jpg',\n",
              " '5384c38c4c.jpg',\n",
              " '6451bd10d4.jpg',\n",
              " '6539baeb9e.jpg',\n",
              " '6655ff1c4c.jpg',\n",
              " '6926e1f68b.jpg',\n",
              " '9717f642cd.jpg',\n",
              " '17128eef81.jpg',\n",
              " '31964be96d.jpg',\n",
              " '37746e188a.jpg',\n",
              " '40866d8f82.jpg',\n",
              " '49356f799c.jpg',\n",
              " '67589eca0a.jpg',\n",
              " '68261af6a6.jpg',\n",
              " '70756d83e7.jpg',\n",
              " '75450eb804.jpg',\n",
              " '91118e1367.jpg',\n",
              " '92213d2ae9.jpg',\n",
              " '95273f5c5d.jpg',\n",
              " '556975fd77.jpg',\n",
              " '653670c086.jpg',\n",
              " '704201e5f6.jpg',\n",
              " '776027f862.jpg',\n",
              " '791580c59a.jpg',\n",
              " '930322b330.jpg',\n",
              " '3414304adb.jpg',\n",
              " '6484942a69.jpg',\n",
              " '6874420af8.jpg',\n",
              " '8388478a4f.jpg',\n",
              " '9049055dd1.jpg',\n",
              " '9615998dcb.jpg',\n",
              " '12820667fe.jpg',\n",
              " '27906354c7.jpg',\n",
              " '31789472a4.jpg',\n",
              " '49580304e0.jpg',\n",
              " '86673024d6.jpg',\n",
              " '521960231a.jpg',\n",
              " '975076424c.jpg',\n",
              " '2064696085.jpg',\n",
              " '2221401449.jpg']"
            ]
          },
          "metadata": {
            "tags": []
          },
          "execution_count": 64
        }
      ]
    },
    {
      "cell_type": "code",
      "metadata": {
        "colab": {
          "base_uri": "https://localhost:8080/"
        },
        "id": "Bu0guKfkwink",
        "outputId": "db3a9b45-b293-49b4-8db8-54d16de4417b"
      },
      "source": [
        "len(tr)"
      ],
      "execution_count": null,
      "outputs": [
        {
          "output_type": "execute_result",
          "data": {
            "text/plain": [
              "251"
            ]
          },
          "metadata": {
            "tags": []
          },
          "execution_count": 65
        }
      ]
    },
    {
      "cell_type": "code",
      "metadata": {
        "id": "zcVNI63UuQYy"
      },
      "source": [
        "src = '/content/drive/MyDrive/Group Project/Group Project/Unprocessed No Accident'\r\n",
        "dest = '/content/drive/MyDrive/Group Project/Group Project/No Accident'"
      ],
      "execution_count": null,
      "outputs": []
    },
    {
      "cell_type": "code",
      "metadata": {
        "id": "uNyckchlubbN"
      },
      "source": [
        "for i in tr:\r\n",
        "  shutil.copy(os.path.join(src,i), dest)"
      ],
      "execution_count": null,
      "outputs": []
    }
  ]
}